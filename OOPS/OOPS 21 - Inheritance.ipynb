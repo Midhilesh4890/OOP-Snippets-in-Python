{
 "cells": [
  {
   "cell_type": "markdown",
   "metadata": {},
   "source": [
    "# Single Inheritance"
   ]
  },
  {
   "cell_type": "code",
   "execution_count": 5,
   "metadata": {},
   "outputs": [],
   "source": [
    "class Parent:\n",
    "    def m1(self):\n",
    "        print('Parent class')\n",
    "        \n",
    "class Child(Parent):\n",
    "    def m2(self):\n",
    "        print('Child Method') #Just one Inheritance which is Child here - Single Inheritance\n",
    "\n",
    "class SubChild(Child):\n",
    "    def m3(self):\n",
    "        print('SubChild class')#Two are there SubChild and Child -->Multi Level Inheritance\n",
    "\n",
    "# Parent ---> Child ---> SubChild"
   ]
  },
  {
   "cell_type": "code",
   "execution_count": 4,
   "metadata": {},
   "outputs": [
    {
     "name": "stdout",
     "output_type": "stream",
     "text": [
      "Parent class\n",
      "Child Method\n",
      "SubChild class\n"
     ]
    }
   ],
   "source": [
    "SubChild().m1()\n",
    "SubChild().m2()\n",
    "SubChild().m3()"
   ]
  },
  {
   "cell_type": "code",
   "execution_count": null,
   "metadata": {},
   "outputs": [],
   "source": []
  }
 ],
 "metadata": {
  "kernelspec": {
   "display_name": "Python 3",
   "language": "python",
   "name": "python3"
  },
  "language_info": {
   "codemirror_mode": {
    "name": "ipython",
    "version": 3
   },
   "file_extension": ".py",
   "mimetype": "text/x-python",
   "name": "python",
   "nbconvert_exporter": "python",
   "pygments_lexer": "ipython3",
   "version": "3.7.6"
  }
 },
 "nbformat": 4,
 "nbformat_minor": 4
}
