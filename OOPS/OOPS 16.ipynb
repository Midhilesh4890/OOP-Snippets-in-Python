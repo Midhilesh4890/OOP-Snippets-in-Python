{
 "cells": [
  {
   "cell_type": "code",
   "execution_count": 1,
   "metadata": {},
   "outputs": [],
   "source": [
    "class P:\n",
    "    def __init__(self):\n",
    "        print('Parent Constructor')\n",
    "class C(P):\n",
    "    def __init__(self):\n",
    "        print(\"Child Constructor\")\n"
   ]
  },
  {
   "cell_type": "code",
   "execution_count": 6,
   "metadata": {},
   "outputs": [
    {
     "name": "stdout",
     "output_type": "stream",
     "text": [
      "Child Constructor\n",
      "Parent Constructor\n"
     ]
    },
    {
     "data": {
      "text/plain": [
       "<__main__.C at 0x230c90956c8>"
      ]
     },
     "execution_count": 6,
     "metadata": {},
     "output_type": "execute_result"
    }
   ],
   "source": [
    "C()\n",
    "#When there is a constructor in Child class then Parent class constructor will not execute in child class\n",
    "#To overcome that and want to execute the Parent Constructor use super() method in Child class\n",
    "#See the code below"
   ]
  },
  {
   "cell_type": "code",
   "execution_count": 9,
   "metadata": {},
   "outputs": [
    {
     "name": "stdout",
     "output_type": "stream",
     "text": [
      "Child Constructor\n",
      "Parent Constructor\n"
     ]
    },
    {
     "data": {
      "text/plain": [
       "<__main__.C at 0x230c90c6448>"
      ]
     },
     "execution_count": 9,
     "metadata": {},
     "output_type": "execute_result"
    }
   ],
   "source": [
    "class P:\n",
    "    def __init__(self):\n",
    "        print('Parent Constructor')\n",
    "class C(P):\n",
    "    def __init__(self):\n",
    "        print(\"Child Constructor\")\n",
    "        super().__init__()\n",
    "        \n",
    "C()"
   ]
  },
  {
   "cell_type": "code",
   "execution_count": null,
   "metadata": {},
   "outputs": [],
   "source": []
  }
 ],
 "metadata": {
  "kernelspec": {
   "display_name": "Python 3",
   "language": "python",
   "name": "python3"
  },
  "language_info": {
   "codemirror_mode": {
    "name": "ipython",
    "version": 3
   },
   "file_extension": ".py",
   "mimetype": "text/x-python",
   "name": "python",
   "nbconvert_exporter": "python",
   "pygments_lexer": "ipython3",
   "version": "3.7.6"
  }
 },
 "nbformat": 4,
 "nbformat_minor": 4
}
