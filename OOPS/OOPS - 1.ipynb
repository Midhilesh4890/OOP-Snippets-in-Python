{
 "cells": [
  {
   "cell_type": "code",
   "execution_count": 1,
   "metadata": {},
   "outputs": [],
   "source": [
    "class Student:\n",
    "    \n",
    "    def __init__(self,name,age,marks): #self.name,self.age,self.marks --> Instance Variables / \n",
    "                                                                         #Object Level Variables\n",
    "        self.name = name\n",
    "        self.age = age\n",
    "        self.marks = marks\n",
    "        \n",
    "    def talk(self):\n",
    "        print('My name is:', self.name)\n",
    "        print('My age is:', self.age)\n",
    "        print('My marks are:', self.marks)\n",
    "\n",
    "s1 = Student('Midhilesh',26,100)\n",
    "s2 = Student('Momidi',26,99.99)"
   ]
  },
  {
   "cell_type": "code",
   "execution_count": 2,
   "metadata": {},
   "outputs": [
    {
     "name": "stdout",
     "output_type": "stream",
     "text": [
      "My name is: Midhilesh\n",
      "My age is: 26\n",
      "My marks are: 100\n"
     ]
    }
   ],
   "source": [
    "s1.talk()"
   ]
  },
  {
   "cell_type": "code",
   "execution_count": 3,
   "metadata": {},
   "outputs": [
    {
     "name": "stdout",
     "output_type": "stream",
     "text": [
      "My name is: Momidi\n",
      "My age is: 26\n",
      "My marks are: 99.99\n"
     ]
    }
   ],
   "source": [
    "s2.talk()"
   ]
  },
  {
   "cell_type": "code",
   "execution_count": 4,
   "metadata": {},
   "outputs": [],
   "source": [
    "# We can write any number of constructors but only the most recent constructor is considered \n",
    "# constructor because of no constructor overloading option"
   ]
  },
  {
   "cell_type": "code",
   "execution_count": 5,
   "metadata": {},
   "outputs": [],
   "source": [
    "# Variables which are varied from object to object are called Instance Variables and are \n",
    "# declared by self (Any word can be taken in place of self but self is universal so best practice to use this)"
   ]
  },
  {
   "cell_type": "code",
   "execution_count": 6,
   "metadata": {},
   "outputs": [
    {
     "name": "stdout",
     "output_type": "stream",
     "text": [
      "Hi\n",
      "Hi\n"
     ]
    }
   ],
   "source": [
    "class Test:\n",
    "    def __init__(self):\n",
    "        print('Hi')\n",
    "t1 = Test()\n",
    "t2 = Test()"
   ]
  },
  {
   "cell_type": "code",
   "execution_count": 7,
   "metadata": {},
   "outputs": [],
   "source": [
    "class Student:\n",
    "    \n",
    "    def __init__(self,name,rollno,marks):\n",
    "        \n",
    "        self.name = name\n",
    "        self.rollno = rollno\n",
    "        self.marks = marks\n",
    "        \n",
    "    def SetAge(self,age):\n",
    "        self.age = age \n",
    "\n",
    "s1 = Student('Midhilesh',26,100)\n",
    "s2 = Student('Momidi',26,99.99)"
   ]
  },
  {
   "cell_type": "code",
   "execution_count": 8,
   "metadata": {},
   "outputs": [],
   "source": [
    "s2.height = 5.5 #Height is not there so it will be initialized and declared or\n",
    "                #if it is present it will be replaced\n",
    "#We can declare an instance variable from outside of the class using object refernece varibale\n",
    "#This is called Object Refernece Varibale declaration of Instance Variable"
   ]
  },
  {
   "cell_type": "code",
   "execution_count": 9,
   "metadata": {},
   "outputs": [
    {
     "data": {
      "text/plain": [
       "{'name': 'Momidi', 'rollno': 26, 'marks': 99.99, 'height': 5.5}"
      ]
     },
     "execution_count": 9,
     "metadata": {},
     "output_type": "execute_result"
    }
   ],
   "source": [
    "s2.__dict__"
   ]
  },
  {
   "cell_type": "code",
   "execution_count": 10,
   "metadata": {},
   "outputs": [],
   "source": [
    "s1.__dict__\n",
    "s1.SetAge(20)"
   ]
  },
  {
   "cell_type": "code",
   "execution_count": 11,
   "metadata": {},
   "outputs": [
    {
     "data": {
      "text/plain": [
       "{'name': 'Midhilesh', 'rollno': 26, 'marks': 100, 'age': 20}"
      ]
     },
     "execution_count": 11,
     "metadata": {},
     "output_type": "execute_result"
    }
   ],
   "source": [
    "s1.__dict__"
   ]
  },
  {
   "cell_type": "code",
   "execution_count": 12,
   "metadata": {},
   "outputs": [
    {
     "name": "stdout",
     "output_type": "stream",
     "text": [
      "{'name': 'Midhilesh', 'rollno': 26, 'marks': 100, 'age': 20, 'height': 5.6} {'name': 'Momidi', 'rollno': 26, 'marks': 99.99, 'height': 5.5}\n"
     ]
    }
   ],
   "source": [
    "s1.height = 5.6\n",
    "print(s1.__dict__,s2.__dict__)"
   ]
  },
  {
   "cell_type": "code",
   "execution_count": null,
   "metadata": {},
   "outputs": [],
   "source": []
  },
  {
   "cell_type": "code",
   "execution_count": null,
   "metadata": {},
   "outputs": [],
   "source": []
  }
 ],
 "metadata": {
  "kernelspec": {
   "display_name": "Python 3",
   "language": "python",
   "name": "python3"
  },
  "language_info": {
   "codemirror_mode": {
    "name": "ipython",
    "version": 3
   },
   "file_extension": ".py",
   "mimetype": "text/x-python",
   "name": "python",
   "nbconvert_exporter": "python",
   "pygments_lexer": "ipython3",
   "version": "3.7.6"
  }
 },
 "nbformat": 4,
 "nbformat_minor": 4
}
