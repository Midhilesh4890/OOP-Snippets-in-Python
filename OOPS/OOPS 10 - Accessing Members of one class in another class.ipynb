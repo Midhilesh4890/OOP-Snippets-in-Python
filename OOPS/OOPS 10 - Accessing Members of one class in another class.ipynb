{
 "cells": [
  {
   "cell_type": "code",
   "execution_count": 1,
   "metadata": {},
   "outputs": [],
   "source": [
    "class Employee:\n",
    "    def __init__(self,no,name,sal):\n",
    "        self.no = no\n",
    "        self.name = name\n",
    "        self.sal = sal\n",
    "        \n",
    "    def display(self):\n",
    "        print('Number:',self.no)\n",
    "        print('Name:',self.name)\n",
    "        print('Salary:',self.sal)\n",
    "        \n",
    "class Test:\n",
    "    def modify(emp):\n",
    "        emp.sal = emp.sal + 10000\n",
    "        emp.display()"
   ]
  },
  {
   "cell_type": "code",
   "execution_count": 2,
   "metadata": {},
   "outputs": [
    {
     "name": "stdout",
     "output_type": "stream",
     "text": [
      "Number: 1257793\n",
      "Name: Midhilesh\n",
      "Salary: 41000\n"
     ]
    }
   ],
   "source": [
    "Test.modify(Employee(1257793,'Midhilesh',31000))"
   ]
  },
  {
   "cell_type": "code",
   "execution_count": null,
   "metadata": {},
   "outputs": [],
   "source": []
  }
 ],
 "metadata": {
  "kernelspec": {
   "display_name": "Python 3",
   "language": "python",
   "name": "python3"
  },
  "language_info": {
   "codemirror_mode": {
    "name": "ipython",
    "version": 3
   },
   "file_extension": ".py",
   "mimetype": "text/x-python",
   "name": "python",
   "nbconvert_exporter": "python",
   "pygments_lexer": "ipython3",
   "version": "3.7.6"
  }
 },
 "nbformat": 4,
 "nbformat_minor": 4
}
