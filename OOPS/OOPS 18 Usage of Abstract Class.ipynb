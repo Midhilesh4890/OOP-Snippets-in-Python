{
 "cells": [
  {
   "cell_type": "code",
   "execution_count": 9,
   "metadata": {},
   "outputs": [
    {
     "name": "stdout",
     "output_type": "stream",
     "text": [
      "Enter the database name: Oracle\n",
      "Connecting Oracle...\n",
      "Disonnecting Oracle...\n",
      "Connecting Sybase...\n",
      "Disonnecting Sybase...\n"
     ]
    }
   ],
   "source": [
    "from abc import *\n",
    "class DBInterface(ABC):\n",
    "    @abstractmethod\n",
    "    def connect(self):\n",
    "        pass\n",
    "    \n",
    "    @abstractmethod\n",
    "    def disconnect(self):\n",
    "        pass\n",
    "    \n",
    "class Oracle(DBInterface):\n",
    "    def connect(self):\n",
    "        print('Connecting Oracle...')\n",
    "        \n",
    "    def disconnect(self):\n",
    "        print('Disonnecting Oracle...')\n",
    "        \n",
    "class Sybase(Oracle):\n",
    "    def connect(self):\n",
    "        print('Connecting Sybase...')\n",
    "        \n",
    "    def disconnect(self):\n",
    "        print('Disonnecting Sybase...')\n",
    "        \n",
    "dbname = input('Enter the database name: ')\n",
    "classname = globals()[dbname]\n",
    "x = classname()\n",
    "x.connect()\n",
    "x.disconnect()\n",
    "\n",
    "y = Sybase()\n",
    "y.connect()\n",
    "y.disconnect()"
   ]
  },
  {
   "cell_type": "code",
   "execution_count": 2,
   "metadata": {},
   "outputs": [
    {
     "name": "stdout",
     "output_type": "stream",
     "text": [
      "{'__name__': '__main__', '__doc__': 'Automatically created module for IPython interactive environment', '__package__': None, '__loader__': None, '__spec__': None, '__builtin__': <module 'builtins' (built-in)>, '__builtins__': <module 'builtins' (built-in)>, '_ih': ['', \"from abc import *\\nclass DBInterface(ABC):\\n    @abstractmethod\\n    def connect(self):\\n        pass\\n    \\n    @abstractmethod\\n    def disconnect(self):\\n        pass\\n    \\nclass Oracle(DBInterface):\\n    def connect(self):\\n        print('Connecting Oracle...')\\n        \\n    def disconnect(self):\\n        print('Disonnecting Oracle...')\\n        \\nclass Sybase(Oracle):\\n    def connect(self):\\n        print('Connecting Sybase...')\\n        \\n    def disconnect(self):\\n        print('Disonnecting Sybase...')\\n        \\n# dbname = input('Enter Database name')\\n# x = dbname()\", 'print(globals())'], '_oh': {}, '_dh': ['C:\\\\Users\\\\Me'], 'In': ['', \"from abc import *\\nclass DBInterface(ABC):\\n    @abstractmethod\\n    def connect(self):\\n        pass\\n    \\n    @abstractmethod\\n    def disconnect(self):\\n        pass\\n    \\nclass Oracle(DBInterface):\\n    def connect(self):\\n        print('Connecting Oracle...')\\n        \\n    def disconnect(self):\\n        print('Disonnecting Oracle...')\\n        \\nclass Sybase(Oracle):\\n    def connect(self):\\n        print('Connecting Sybase...')\\n        \\n    def disconnect(self):\\n        print('Disonnecting Sybase...')\\n        \\n# dbname = input('Enter Database name')\\n# x = dbname()\", 'print(globals())'], 'Out': {}, 'get_ipython': <bound method InteractiveShell.get_ipython of <ipykernel.zmqshell.ZMQInteractiveShell object at 0x000001636739B7C8>>, 'exit': <IPython.core.autocall.ZMQExitAutocall object at 0x00000163673C8688>, 'quit': <IPython.core.autocall.ZMQExitAutocall object at 0x00000163673C8688>, '_': '', '__': '', '___': '', '_i': \"from abc import *\\nclass DBInterface(ABC):\\n    @abstractmethod\\n    def connect(self):\\n        pass\\n    \\n    @abstractmethod\\n    def disconnect(self):\\n        pass\\n    \\nclass Oracle(DBInterface):\\n    def connect(self):\\n        print('Connecting Oracle...')\\n        \\n    def disconnect(self):\\n        print('Disonnecting Oracle...')\\n        \\nclass Sybase(Oracle):\\n    def connect(self):\\n        print('Connecting Sybase...')\\n        \\n    def disconnect(self):\\n        print('Disonnecting Sybase...')\\n        \\n# dbname = input('Enter Database name')\\n# x = dbname()\", '_ii': '', '_iii': '', '_i1': \"from abc import *\\nclass DBInterface(ABC):\\n    @abstractmethod\\n    def connect(self):\\n        pass\\n    \\n    @abstractmethod\\n    def disconnect(self):\\n        pass\\n    \\nclass Oracle(DBInterface):\\n    def connect(self):\\n        print('Connecting Oracle...')\\n        \\n    def disconnect(self):\\n        print('Disonnecting Oracle...')\\n        \\nclass Sybase(Oracle):\\n    def connect(self):\\n        print('Connecting Sybase...')\\n        \\n    def disconnect(self):\\n        print('Disonnecting Sybase...')\\n        \\n# dbname = input('Enter Database name')\\n# x = dbname()\", 'abstractmethod': <function abstractmethod at 0x0000016364BB5168>, 'abstractclassmethod': <class 'abc.abstractclassmethod'>, 'abstractstaticmethod': <class 'abc.abstractstaticmethod'>, 'abstractproperty': <class 'abc.abstractproperty'>, 'get_cache_token': <built-in function get_cache_token>, 'ABCMeta': <class 'abc.ABCMeta'>, 'ABC': <class 'abc.ABC'>, 'DBInterface': <class '__main__.DBInterface'>, 'Oracle': <class '__main__.Oracle'>, 'Sybase': <class '__main__.Sybase'>, '_i2': 'print(globals())'}\n"
     ]
    }
   ],
   "source": [
    "print(globals())"
   ]
  },
  {
   "cell_type": "code",
   "execution_count": 5,
   "metadata": {},
   "outputs": [
    {
     "name": "stdout",
     "output_type": "stream",
     "text": [
      "Enter the database name: Sybase\n",
      "<class '__main__.Sybase'>\n"
     ]
    }
   ],
   "source": []
  },
  {
   "cell_type": "code",
   "execution_count": null,
   "metadata": {},
   "outputs": [],
   "source": []
  }
 ],
 "metadata": {
  "kernelspec": {
   "display_name": "Python 3",
   "language": "python",
   "name": "python3"
  },
  "language_info": {
   "codemirror_mode": {
    "name": "ipython",
    "version": 3
   },
   "file_extension": ".py",
   "mimetype": "text/x-python",
   "name": "python",
   "nbconvert_exporter": "python",
   "pygments_lexer": "ipython3",
   "version": "3.7.6"
  }
 },
 "nbformat": 4,
 "nbformat_minor": 4
}
