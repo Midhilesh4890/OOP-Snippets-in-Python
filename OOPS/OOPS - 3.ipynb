{
 "cells": [
  {
   "cell_type": "code",
   "execution_count": 1,
   "metadata": {},
   "outputs": [],
   "source": [
    "class Test:\n",
    "    def __init__(self):\n",
    "        self.a = 10\n",
    "        self.b = 20\n",
    "    \n",
    "    def m1(self):\n",
    "        print(self.a,self.b)\n",
    "    \n",
    "    def m2(self):\n",
    "        self.d = 40\n",
    "        \n",
    "t1 = Test()"
   ]
  },
  {
   "cell_type": "code",
   "execution_count": 4,
   "metadata": {},
   "outputs": [
    {
     "name": "stdout",
     "output_type": "stream",
     "text": [
      "10 20\n"
     ]
    }
   ],
   "source": [
    "print(t1.a,t1.b)"
   ]
  },
  {
   "cell_type": "code",
   "execution_count": 29,
   "metadata": {},
   "outputs": [],
   "source": [
    "class Test:\n",
    "    def __init__(self):\n",
    "        self.a = 10\n",
    "        self.b = 20\n",
    "        self.c = 30\n",
    "    \n",
    "    def m1(self):\n",
    "        del self.c"
   ]
  },
  {
   "cell_type": "code",
   "execution_count": 36,
   "metadata": {},
   "outputs": [
    {
     "data": {
      "text/plain": [
       "{'b': 20}"
      ]
     },
     "execution_count": 36,
     "metadata": {},
     "output_type": "execute_result"
    }
   ],
   "source": [
    "t3 = Test()\n",
    "t4 = Test()\n",
    "del t3.a #--> We can delete instance variables anywhere in the Program both from class as well as through object reference variable\n",
    "t3.m1() #--> uncomment and run so that self.c will be deleted\n",
    "#t3.a = 89\n",
    "t3.__dict__"
   ]
  },
  {
   "cell_type": "code",
   "execution_count": 40,
   "metadata": {},
   "outputs": [
    {
     "data": {
      "text/plain": [
       "{'a': 1000, 'b': 2002, 'c': 30}"
      ]
     },
     "execution_count": 40,
     "metadata": {},
     "output_type": "execute_result"
    }
   ],
   "source": [
    "t4.__dict__ \n",
    "#a is not deleted in t4 because t4 and t3 are different objects and for every objects \n",
    "#separate copy of instance variables are deleted\n",
    "#Instance Variable --> Value of the variable varied from Object to Obejct"
   ]
  },
  {
   "cell_type": "code",
   "execution_count": 37,
   "metadata": {},
   "outputs": [],
   "source": [
    "t4.a = 1000\n",
    "t4.b = 2002"
   ]
  },
  {
   "cell_type": "code",
   "execution_count": 41,
   "metadata": {},
   "outputs": [
    {
     "name": "stdout",
     "output_type": "stream",
     "text": [
      "{'b': 20}\n",
      "{'a': 1000, 'b': 2002, 'c': 30}\n"
     ]
    }
   ],
   "source": [
    "print(t3.__dict__)\n",
    "print(t4.__dict__)\n",
    "#Here we are changing only in the t4 object so change happens in t3 object as both have different copies"
   ]
  },
  {
   "cell_type": "markdown",
   "metadata": {},
   "source": [
    "# Instance Variable is always separate for different objects"
   ]
  },
  {
   "cell_type": "code",
   "execution_count": null,
   "metadata": {},
   "outputs": [],
   "source": [
    "#To delete instance variables within the class --> del self.variable(a/b/c...)\n",
    "#To delete instance variables outside the class --> del objectreferencevariable(t1/t2).variable(a/b..)\n"
   ]
  }
 ],
 "metadata": {
  "kernelspec": {
   "display_name": "Python 3",
   "language": "python",
   "name": "python3"
  },
  "language_info": {
   "codemirror_mode": {
    "name": "ipython",
    "version": 3
   },
   "file_extension": ".py",
   "mimetype": "text/x-python",
   "name": "python",
   "nbconvert_exporter": "python",
   "pygments_lexer": "ipython3",
   "version": "3.7.6"
  }
 },
 "nbformat": 4,
 "nbformat_minor": 4
}
