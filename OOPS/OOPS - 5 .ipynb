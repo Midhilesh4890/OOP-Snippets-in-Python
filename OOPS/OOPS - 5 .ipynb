{
 "cells": [
  {
   "cell_type": "markdown",
   "metadata": {},
   "source": [
    "# Instance Methods"
   ]
  },
  {
   "cell_type": "code",
   "execution_count": 7,
   "metadata": {},
   "outputs": [
    {
     "name": "stdout",
     "output_type": "stream",
     "text": [
      "Enter number of students: 2\n",
      "Enter Student name: Midhilesh\n",
      "Enter marks: 100\n",
      "Hi Midhilesh\n",
      "Marks are  100\n",
      "First Grade\n",
      "\n",
      "Enter Student name: Momidi\n",
      "Enter marks: 100\n",
      "Hi Momidi\n",
      "Marks are  100\n",
      "First Grade\n",
      "\n"
     ]
    }
   ],
   "source": [
    "class Student:\n",
    "    \n",
    "    def __init__(self,name,marks):\n",
    "        self.name = name\n",
    "        self.marks = marks\n",
    "        \n",
    "    def display(self):\n",
    "        print('Hi',self.name)\n",
    "        print('Marks are ',self.marks)\n",
    "        \n",
    "    def grade(self):\n",
    "        if self.marks >= 60:\n",
    "            print('First Grade')\n",
    "        elif self.marks >=50:\n",
    "            print('Second Grade')\n",
    "        elif self.marks >=35:\n",
    "            print('Third Grade')\n",
    "        else:\n",
    "            print('Failed')\n",
    "            \n",
    "n = int(input('Enter number of students: '))\n",
    "for i in range(n):\n",
    "    name = input('Enter Student name: ')\n",
    "    marks = int(input('Enter marks: '))\n",
    "    s = Student(name,marks)\n",
    "    s.display()\n",
    "    s.grade()\n",
    "    print()"
   ]
  },
  {
   "cell_type": "code",
   "execution_count": null,
   "metadata": {},
   "outputs": [],
   "source": []
  }
 ],
 "metadata": {
  "kernelspec": {
   "display_name": "Python 3",
   "language": "python",
   "name": "python3"
  },
  "language_info": {
   "codemirror_mode": {
    "name": "ipython",
    "version": 3
   },
   "file_extension": ".py",
   "mimetype": "text/x-python",
   "name": "python",
   "nbconvert_exporter": "python",
   "pygments_lexer": "ipython3",
   "version": "3.7.6"
  }
 },
 "nbformat": 4,
 "nbformat_minor": 4
}
