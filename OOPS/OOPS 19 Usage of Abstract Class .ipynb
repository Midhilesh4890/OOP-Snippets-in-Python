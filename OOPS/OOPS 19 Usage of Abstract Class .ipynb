{
 "cells": [
  {
   "cell_type": "code",
   "execution_count": 14,
   "metadata": {},
   "outputs": [
    {
     "name": "stdout",
     "output_type": "stream",
     "text": [
      "Enter Printer name: Epson\n",
      "Printing from Epson...\n",
      "Print the text\n",
      "Disonnecting Epson....\n"
     ]
    }
   ],
   "source": [
    "from abc import *\n",
    "class Printer(ABC):\n",
    "    @abstractmethod\n",
    "    def printit(self,text):\n",
    "        pass\n",
    "    \n",
    "    @abstractmethod\n",
    "    def disconnect(self):\n",
    "        pass\n",
    "    \n",
    "class HP(Printer):\n",
    "    def printit(self,text):\n",
    "        print('Printing from HP...')\n",
    "        print(text)\n",
    "        \n",
    "    def disconnect(self):\n",
    "        print('Disonnecting HP....')\n",
    "\n",
    "    \n",
    "class Epson(Printer):\n",
    "    def printit(self,text):\n",
    "        print('Printing from Epson...')\n",
    "        print(text)\n",
    "        \n",
    "    def disconnect(self):\n",
    "        print('Disonnecting Epson....')\n",
    "        \n",
    "pname = input('Enter Printer name: ')\n",
    "classname = globals()[pname]\n",
    "x = classname()\n",
    "x.printit('Print the text')\n",
    "x.disconnect()"
   ]
  },
  {
   "cell_type": "code",
   "execution_count": null,
   "metadata": {},
   "outputs": [],
   "source": []
  }
 ],
 "metadata": {
  "kernelspec": {
   "display_name": "Python 3",
   "language": "python",
   "name": "python3"
  },
  "language_info": {
   "codemirror_mode": {
    "name": "ipython",
    "version": 3
   },
   "file_extension": ".py",
   "mimetype": "text/x-python",
   "name": "python",
   "nbconvert_exporter": "python",
   "pygments_lexer": "ipython3",
   "version": "3.7.6"
  }
 },
 "nbformat": 4,
 "nbformat_minor": 4
}
