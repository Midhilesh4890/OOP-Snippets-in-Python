{
 "cells": [
  {
   "cell_type": "markdown",
   "metadata": {},
   "source": [
    "# Static Variables in OOPS"
   ]
  },
  {
   "cell_type": "code",
   "execution_count": 1,
   "metadata": {},
   "outputs": [],
   "source": [
    "class Test:\n",
    "    x = 200\n",
    "    def __init__(self):\n",
    "        self.y = 20\n",
    "t1 = Test()\n",
    "t2 = Test()"
   ]
  },
  {
   "cell_type": "code",
   "execution_count": 2,
   "metadata": {},
   "outputs": [],
   "source": [
    "t1.x = 888\n",
    "t1.y = 999"
   ]
  },
  {
   "cell_type": "code",
   "execution_count": 3,
   "metadata": {},
   "outputs": [
    {
     "name": "stdout",
     "output_type": "stream",
     "text": [
      "888 999\n",
      "200 20\n"
     ]
    }
   ],
   "source": [
    "print(t1.x,t1.y)\n",
    "print(t2.x,t2.y)"
   ]
  },
  {
   "cell_type": "code",
   "execution_count": 4,
   "metadata": {},
   "outputs": [],
   "source": [
    "Test.x = 500 # t1.x is changed only to t1 object so it will become an instance variable to t1 object"
   ]
  },
  {
   "cell_type": "code",
   "execution_count": 5,
   "metadata": {},
   "outputs": [
    {
     "name": "stdout",
     "output_type": "stream",
     "text": [
      "888 999\n",
      "500 20\n"
     ]
    }
   ],
   "source": [
    "print(t1.x,t1.y)\n",
    "print(t2.x,t2.y)"
   ]
  },
  {
   "cell_type": "code",
   "execution_count": 6,
   "metadata": {},
   "outputs": [
    {
     "data": {
      "text/plain": [
       "mappingproxy({'__module__': '__main__',\n",
       "              'x': 500,\n",
       "              '__init__': <function __main__.Test.__init__(self)>,\n",
       "              '__dict__': <attribute '__dict__' of 'Test' objects>,\n",
       "              '__weakref__': <attribute '__weakref__' of 'Test' objects>,\n",
       "              '__doc__': None})"
      ]
     },
     "execution_count": 6,
     "metadata": {},
     "output_type": "execute_result"
    }
   ],
   "source": [
    "Test.__dict__"
   ]
  },
  {
   "cell_type": "markdown",
   "metadata": {},
   "source": [
    "# Static Method Declaration"
   ]
  },
  {
   "cell_type": "code",
   "execution_count": 7,
   "metadata": {},
   "outputs": [],
   "source": [
    "class Test:\n",
    "    a = 10              #Static Variable Inside Constructor \n",
    "    \n",
    "    def __init__(self): #Inside Constructor\n",
    "        Test.b = 20     #Static Variable\n",
    "        \n",
    "    def m1(self):       #Inside Instance method\n",
    "        Test.c = 30     #Static Variable \n",
    "    \n",
    "    @classmethod\n",
    "    def m2(cls):        #cls because it is classmethod\n",
    "        Test.d = 40     #Static Variable using Classname\n",
    "        cls.e = 50      #Static Variable using cls variable\n",
    "    \n",
    "    @staticmethod       #Static Method no variable is needed to declare like self in instance and \n",
    "                        #cls in classmethod\n",
    "    def m3():\n",
    "        Test.f = 60\n",
    " \n",
    "\n",
    "Test.g = 70\n",
    "t1 = Test()\n",
    "t1.m1()\n",
    "t1.m2()\n",
    "t1.m3()\n"
   ]
  },
  {
   "cell_type": "code",
   "execution_count": 8,
   "metadata": {},
   "outputs": [
    {
     "name": "stdout",
     "output_type": "stream",
     "text": [
      "{'__module__': '__main__', 'a': 10, '__init__': <function Test.__init__ at 0x000001889545CF78>, 'm1': <function Test.m1 at 0x0000018895477048>, 'm2': <classmethod object at 0x000001889542BB08>, 'm3': <staticmethod object at 0x000001889542E2C8>, '__dict__': <attribute '__dict__' of 'Test' objects>, '__weakref__': <attribute '__weakref__' of 'Test' objects>, '__doc__': None, 'g': 70, 'b': 20, 'c': 30, 'd': 40, 'e': 50, 'f': 60}\n"
     ]
    }
   ],
   "source": [
    "print(Test.__dict__)"
   ]
  },
  {
   "cell_type": "markdown",
   "metadata": {},
   "source": [
    "# Accessing Static Variables"
   ]
  },
  {
   "cell_type": "code",
   "execution_count": 9,
   "metadata": {},
   "outputs": [
    {
     "name": "stdout",
     "output_type": "stream",
     "text": [
      "Inside Constructor using classname or self variable\n",
      "10\n",
      "10\n",
      "Inside Instance method using classname or self variable\n",
      "10\n",
      "10\n",
      "Inside Classmethod using classname or cls\n",
      "10\n",
      "10\n",
      "Inside Static method using classname or self variable\n",
      "10\n",
      "Outside class using classname\n",
      "10\n"
     ]
    }
   ],
   "source": [
    "class Test:\n",
    "    a = 10 \n",
    "    \n",
    "    def __init__(self):\n",
    "        print('Inside Constructor using classname or self variable')\n",
    "        print(Test.a)\n",
    "        print(self.a)\n",
    "        \n",
    "    def m1(self):\n",
    "        print('Inside Instance method using classname or self variable')\n",
    "        print(Test.a)\n",
    "        print(self.a)\n",
    "    \n",
    "    @classmethod\n",
    "    def m2(cls):\n",
    "        print('Inside Classmethod using classname or cls')\n",
    "        print(Test.a)\n",
    "        print(cls.a)\n",
    "    \n",
    "    @staticmethod\n",
    "    def m3():\n",
    "        print('Inside Static method using classname or self variable')\n",
    "        print(Test.a)\n",
    "        \n",
    "t = Test()\n",
    "t.m1()\n",
    "t.m2()\n",
    "t.m3()\n",
    "print('Outside class using classname')\n",
    "print(Test.a)"
   ]
  },
  {
   "cell_type": "markdown",
   "metadata": {},
   "source": [
    "# Modifying Static Variables"
   ]
  },
  {
   "cell_type": "code",
   "execution_count": 10,
   "metadata": {},
   "outputs": [
    {
     "data": {
      "text/plain": [
       "10"
      ]
     },
     "execution_count": 10,
     "metadata": {},
     "output_type": "execute_result"
    }
   ],
   "source": [
    "class Test:\n",
    "    a = 10\n",
    "    \n",
    "    def __init__(self):\n",
    "        a = 20 #--> Local variable will be created\n",
    "#         self.a = 20 #--> Instance variable will be created\n",
    "#         Test.a = 20 #--> Only this will modify the static variable because of using classname\n",
    "                    #--> Only classname should be used to modify static variable\n",
    "\n",
    "t = Test()\n",
    "Test.a"
   ]
  },
  {
   "cell_type": "code",
   "execution_count": 11,
   "metadata": {},
   "outputs": [
    {
     "data": {
      "text/plain": [
       "10"
      ]
     },
     "execution_count": 11,
     "metadata": {},
     "output_type": "execute_result"
    }
   ],
   "source": [
    "t.a"
   ]
  },
  {
   "cell_type": "code",
   "execution_count": 12,
   "metadata": {},
   "outputs": [
    {
     "name": "stdout",
     "output_type": "stream",
     "text": [
      "10 20\n"
     ]
    }
   ],
   "source": [
    "class Test:\n",
    "    a = 10\n",
    "    \n",
    "    def __init__(self):\n",
    "        self.b = 20\n",
    "#         self.a = 30\n",
    "#         print(a)\n",
    "#         print(self.a)\n",
    "#         print(Test.a)\n",
    "        \n",
    "t1 = Test()\n",
    "t2 = Test()\n",
    "t1.a = 777\n",
    "t1.b = 888\n",
    "\n",
    "print(t2.a,t2.b)"
   ]
  },
  {
   "cell_type": "code",
   "execution_count": 13,
   "metadata": {},
   "outputs": [
    {
     "name": "stdout",
     "output_type": "stream",
     "text": [
      "777\n"
     ]
    }
   ],
   "source": [
    "print(t1.a)"
   ]
  },
  {
   "cell_type": "code",
   "execution_count": null,
   "metadata": {},
   "outputs": [],
   "source": []
  }
 ],
 "metadata": {
  "kernelspec": {
   "display_name": "Python 3",
   "language": "python",
   "name": "python3"
  },
  "language_info": {
   "codemirror_mode": {
    "name": "ipython",
    "version": 3
   },
   "file_extension": ".py",
   "mimetype": "text/x-python",
   "name": "python",
   "nbconvert_exporter": "python",
   "pygments_lexer": "ipython3",
   "version": "3.7.6"
  }
 },
 "nbformat": 4,
 "nbformat_minor": 4
}
