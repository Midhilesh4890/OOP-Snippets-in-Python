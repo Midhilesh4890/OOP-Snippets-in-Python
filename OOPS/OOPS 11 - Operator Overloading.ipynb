{
 "cells": [
  {
   "cell_type": "code",
   "execution_count": 1,
   "metadata": {},
   "outputs": [],
   "source": [
    "#+,* are used for various purposes like \"+\" for concatenation and addition whereas \"*\" is for multiplication and repetetition"
   ]
  },
  {
   "cell_type": "code",
   "execution_count": 2,
   "metadata": {},
   "outputs": [
    {
     "name": "stdout",
     "output_type": "stream",
     "text": [
      "30\n",
      "MidhileshMomidi\n",
      "200\n",
      "MidhileshMidhileshMidhilesh\n"
     ]
    }
   ],
   "source": [
    "print(10+20)\n",
    "print('Midhilesh'+'Momidi')\n",
    "print(10*20)\n",
    "print('Midhilesh'*3)"
   ]
  },
  {
   "cell_type": "code",
   "execution_count": 30,
   "metadata": {},
   "outputs": [],
   "source": [
    "class Book:\n",
    "    def __init__(self,pages):\n",
    "        self.pages = pages\n",
    "        \n",
    "    def __add__(self,other):\n",
    "        print('Add method calling:',self , other)\n",
    "        return Book(self.pages + other.pages)\n",
    "    \n",
    "    def __str__(self):\n",
    "        return str(self.pages)\n",
    "\n",
    "b1 = Book(100)\n",
    "b2 = Book(200)\n",
    "b3 = Book(300)\n",
    "b4 = Book(400)"
   ]
  },
  {
   "cell_type": "code",
   "execution_count": 32,
   "metadata": {},
   "outputs": [
    {
     "name": "stdout",
     "output_type": "stream",
     "text": [
      "Add method calling: 100 200\n",
      "Add method calling: 300 300\n",
      "Add method calling: 600 400\n",
      "1000\n"
     ]
    }
   ],
   "source": [
    "print(b1 + b2 + b3 + b4)"
   ]
  },
  {
   "cell_type": "code",
   "execution_count": 17,
   "metadata": {},
   "outputs": [
    {
     "name": "stdout",
     "output_type": "stream",
     "text": [
      "100 200 300 400\n"
     ]
    }
   ],
   "source": [
    "print(b1,b2,b3,b4)"
   ]
  },
  {
   "cell_type": "code",
   "execution_count": 18,
   "metadata": {},
   "outputs": [
    {
     "data": {
      "text/plain": [
       "__main__.Book"
      ]
     },
     "execution_count": 18,
     "metadata": {},
     "output_type": "execute_result"
    }
   ],
   "source": [
    "type(b1)"
   ]
  },
  {
   "cell_type": "code",
   "execution_count": 44,
   "metadata": {},
   "outputs": [],
   "source": [
    "class Student:\n",
    "    def __init__(self,name,marks):\n",
    "        self.name = name\n",
    "        self.marks = marks\n",
    "        \n",
    "    def __gt__(self,other):\n",
    "        return self.marks > other.marks\n",
    "    \n",
    "    def __le__(self,other):\n",
    "        return self.marks > other.marks\n",
    "        \n",
    "s1 = Student('A',1)\n",
    "s2 = Student('B',2)"
   ]
  },
  {
   "cell_type": "code",
   "execution_count": 45,
   "metadata": {},
   "outputs": [
    {
     "name": "stdout",
     "output_type": "stream",
     "text": [
      "True\n"
     ]
    }
   ],
   "source": [
    "print(s1<s2)"
   ]
  },
  {
   "cell_type": "code",
   "execution_count": null,
   "metadata": {},
   "outputs": [],
   "source": []
  }
 ],
 "metadata": {
  "kernelspec": {
   "display_name": "Python 3",
   "language": "python",
   "name": "python3"
  },
  "language_info": {
   "codemirror_mode": {
    "name": "ipython",
    "version": 3
   },
   "file_extension": ".py",
   "mimetype": "text/x-python",
   "name": "python",
   "nbconvert_exporter": "python",
   "pygments_lexer": "ipython3",
   "version": "3.7.6"
  }
 },
 "nbformat": 4,
 "nbformat_minor": 4
}
